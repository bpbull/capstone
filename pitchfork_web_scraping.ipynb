{
 "cells": [
  {
   "cell_type": "markdown",
   "metadata": {},
   "source": [
    "## Web Scraping Pitchfork for Album Reviews"
   ]
  },
  {
   "cell_type": "code",
   "execution_count": null,
   "metadata": {},
   "outputs": [],
   "source": [
    "#import libraries\n",
    "import re\n",
    "import requests\n",
    "from bs4 import BeautifulSoup\n",
    "import pandas as pd\n",
    "import pickle\n",
    "import time\n",
    "from tqdm import tqdm\n",
    "import matplotlib.pyplot as plt\n",
    "import seaborn as sns\n",
    "import numpy as np"
   ]
  },
  {
   "cell_type": "markdown",
   "metadata": {},
   "source": [
    "### *In order to acquire the html for the review links on Pitchfork from 2015 onwards, I scrolled down their review page until reaching the year 2015 and saved the html as a file."
   ]
  },
  {
   "cell_type": "code",
   "execution_count": null,
   "metadata": {},
   "outputs": [],
   "source": [
    "#turn the html file into a beautiful soup object\n",
    "filename = 'pitchfork_15-present.htm'\n",
    "file = open(filename, 'r')\n",
    "soup = BeautifulSoup(file, 'html.parser')\n"
   ]
  },
  {
   "cell_type": "markdown",
   "metadata": {},
   "source": [
    "### Grab the individual links for each review and append them to a list"
   ]
  },
  {
   "cell_type": "code",
   "execution_count": null,
   "metadata": {},
   "outputs": [],
   "source": [
    "link_tags = soup.findAll('a', {'class': ['review__link']})\n",
    "real_links = []\n",
    "for tag in link_tags:\n",
    "    real_links.append(tag.get('href'))"
   ]
  },
  {
   "cell_type": "code",
   "execution_count": null,
   "metadata": {},
   "outputs": [],
   "source": [
    "#save links\n",
    "files = 'pitchfork_rev_links.pickle'\n",
    "pickle.dump(real_links, open(files, 'wb'))"
   ]
  },
  {
   "cell_type": "markdown",
   "metadata": {},
   "source": [
    "### Use the review links to scrape Pitchfork and gather each review's album, artist, score, genre and summary."
   ]
  },
  {
   "cell_type": "code",
   "execution_count": null,
   "metadata": {
    "scrolled": true
   },
   "outputs": [],
   "source": [
    "#create list for each attribute\n",
    "album = []\n",
    "artist = []\n",
    "score = []\n",
    "genres = []\n",
    "summary = []\n",
    "#loop through each review link and gather desired info\n",
    "for i in tqdm(real_links):\n",
    "    time.sleep(2)\n",
    "    url = i\n",
    "    html_page = requests.get(url)\n",
    "    soup = BeautifulSoup(html_page.content, 'html.parser')\n",
    "    album_tag = soup.find('h1', {'class': ['single-album-tombstone__review-title']})\n",
    "    artist_tag = soup.find('ul', {'class': ['artist-links artist-list single-album-tombstone__artist-links']})\n",
    "    score_tag = soup.find('span', {'class': ['score']})\n",
    "    genres_tag = soup.find('ul', {'class': ['genre-list genre-list--before']})\n",
    "    summary_tag = soup.find('div', {'class': ['review-detail__abstract']})\n",
    "    try:\n",
    "        album.append(album_tag.get_text())\n",
    "    except AttributeError:\n",
    "        album.append('null')\n",
    "    try:\n",
    "        artist.append(artist_tag.get_text())\n",
    "    except AttributeError:\n",
    "        artist.append('null')\n",
    "    try:\n",
    "        score.append(score_tag.get_text())\n",
    "    except AttributeError:\n",
    "        score.append('null')\n",
    "    try:\n",
    "        genres.append(genres_tag.get_text())\n",
    "    except AttributeError:\n",
    "        genres.append('null')\n",
    "    try:\n",
    "        summary.append(summary_tag.get_text())\n",
    "    except AttributeError:\n",
    "        summary.append('null')\n",
    "    \n",
    "print(album, artist, score, genres, summary)\n",
    "    "
   ]
  },
  {
   "cell_type": "markdown",
   "metadata": {},
   "source": [
    "### Save lists and a dataframe of all pitchfork info"
   ]
  },
  {
   "cell_type": "code",
   "execution_count": null,
   "metadata": {},
   "outputs": [],
   "source": [
    "with open('pitchfork_album.pickle', 'wb') as f:\n",
    "    pickle.dump(album, f)\n",
    "with open('pitchfork_artist.pickle', 'wb') as f:\n",
    "    pickle.dump(artist, f)\n",
    "with open('pitchfork_score.pickle', 'wb') as f:\n",
    "    pickle.dump(score, f)\n",
    "with open('pitchfork_genres.pickle', 'wb') as f:\n",
    "    pickle.dump(genres, f)\n",
    "with open('pitchfork_summary.pickle', 'wb') as f:\n",
    "    pickle.dump(summary, f)"
   ]
  },
  {
   "cell_type": "code",
   "execution_count": null,
   "metadata": {},
   "outputs": [],
   "source": [
    "#create data frame\n",
    "pitchfork_df = pd.DataFrame([album, artist, score, genres, summary]).transpose()\n",
    "pitchfork_df.columns = ['Album', 'Artist', 'Score', 'Genres', 'Summary']\n",
    "print(len(pitchfork_df))\n",
    "pitchfork_df.head(100)"
   ]
  },
  {
   "cell_type": "code",
   "execution_count": null,
   "metadata": {},
   "outputs": [],
   "source": [
    "#save df to a pickle\n",
    "pitchfork_df.to_pickle(\"pitchfork_df.pickle\")"
   ]
  },
  {
   "cell_type": "code",
   "execution_count": null,
   "metadata": {},
   "outputs": [],
   "source": []
  }
 ],
 "metadata": {
  "kernelspec": {
   "display_name": "Python 3",
   "language": "python",
   "name": "python3"
  },
  "language_info": {
   "codemirror_mode": {
    "name": "ipython",
    "version": 3
   },
   "file_extension": ".py",
   "mimetype": "text/x-python",
   "name": "python",
   "nbconvert_exporter": "python",
   "pygments_lexer": "ipython3",
   "version": "3.7.4"
  }
 },
 "nbformat": 4,
 "nbformat_minor": 2
}
